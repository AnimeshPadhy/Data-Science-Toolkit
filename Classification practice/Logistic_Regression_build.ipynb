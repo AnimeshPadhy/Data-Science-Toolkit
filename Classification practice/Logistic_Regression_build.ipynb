{
 "cells": [
  {
   "cell_type": "code",
   "execution_count": 114,
   "metadata": {},
   "outputs": [],
   "source": [
    "import pandas as pd\n",
    "import numpy as np\n",
    "import matplotlib.pyplot as plt\n",
    "import seaborn as sns\n"
   ]
  },
  {
   "cell_type": "markdown",
   "metadata": {},
   "source": [
    "# Logistic Regression"
   ]
  },
  {
   "cell_type": "code",
   "execution_count": 115,
   "metadata": {},
   "outputs": [],
   "source": [
    "class Logistic_Regression():\n",
    "\n",
    "    # initiate learning_rate and no_of_iterations\n",
    "    def __init__(self, lr, no_of_iter):\n",
    "        self.learning_rate = lr\n",
    "        self.no_of_iterations = no_of_iter\n",
    "\n",
    "    # train the model\n",
    "    def fit(self, X, Y):\n",
    "        #no of datapoints in the dataset (no of rows) - m\n",
    "        #no of i/p features in the dataset (no of cols) - n\n",
    "        self.m, self.n = X.shape\n",
    "\n",
    "        # initiate w and b value\n",
    "        self.w = np.zeros(self.n)\n",
    "        self.b = 0\n",
    "        self.X = X\n",
    "        self.Y = Y\n",
    "\n",
    "        # implement gradient descent\n",
    "        for i in range(self.no_of_iterations):\n",
    "            self.update_weights()\n",
    "\n",
    "    # gradient descent algo\n",
    "    def update_weights(self):\n",
    "\n",
    "        #Y_hat formulae (sigmoid function)\n",
    "        Y_hat = 1 / (1 + np.exp(-(self.X.dot(self.w))+self.b))  \n",
    "\n",
    "        #derivatives\n",
    "        dw= (1/self.m) * np.dot(self.X.T, (Y_hat - self.Y))\n",
    "        db= (1/self.m) * np.sum(Y_hat - self.Y)\n",
    "\n",
    "        #updating w and b using gradient descent\n",
    "        self.w= self.w - self.learning_rate * dw\n",
    "        self.b= self.b - self.learning_rate * db\n",
    "\n",
    "    # predict function with probability threshold as 0.5\n",
    "    def predict(self, X):\n",
    "\n",
    "        Y_pred = 1 / (1 + np.exp(-(X.dot(self.w))+self.b))\n",
    "\n",
    "        Y_pred = np.where(Y_pred > 0.5, 1, 0)\n",
    "        return Y_pred\n"
   ]
  },
  {
   "cell_type": "markdown",
   "metadata": {},
   "source": [
    "data collection"
   ]
  },
  {
   "cell_type": "code",
   "execution_count": 116,
   "metadata": {},
   "outputs": [],
   "source": [
    "data = pd.read_csv(\"datasets/diabetes2.csv\")"
   ]
  },
  {
   "cell_type": "code",
   "execution_count": 117,
   "metadata": {},
   "outputs": [],
   "source": [
    "X = data.drop(columns='Outcome')\n",
    "y = data['Outcome']"
   ]
  },
  {
   "cell_type": "markdown",
   "metadata": {},
   "source": [
    "train test split"
   ]
  },
  {
   "cell_type": "code",
   "execution_count": 118,
   "metadata": {},
   "outputs": [],
   "source": [
    "from sklearn.model_selection import train_test_split\n",
    "X_train, X_test, y_train, y_test = train_test_split(X,y, test_size= 0.3, random_state=42)"
   ]
  },
  {
   "cell_type": "markdown",
   "metadata": {},
   "source": [
    "feature scaling"
   ]
  },
  {
   "cell_type": "code",
   "execution_count": 119,
   "metadata": {},
   "outputs": [
    {
     "data": {
      "text/plain": [
       "' from sklearn.preprocessing import StandardScaler\\nsc = StandardScaler()\\n\\nX_train = sc.fit_transform(X_train)\\nX_test = sc.transform(X_test) '"
      ]
     },
     "execution_count": 119,
     "metadata": {},
     "output_type": "execute_result"
    }
   ],
   "source": [
    "\"\"\" from sklearn.preprocessing import StandardScaler\n",
    "sc = StandardScaler()\n",
    "\n",
    "X_train = sc.fit_transform(X_train)\n",
    "X_test = sc.transform(X_test) \"\"\""
   ]
  },
  {
   "cell_type": "markdown",
   "metadata": {},
   "source": [
    "Train the manually coded Logistic Regression Model"
   ]
  },
  {
   "cell_type": "code",
   "execution_count": 120,
   "metadata": {},
   "outputs": [],
   "source": [
    "model = Logistic_Regression(lr=0.01, no_of_iter=1000)\n",
    "\n",
    "model.fit(X_train,y_train)"
   ]
  },
  {
   "cell_type": "markdown",
   "metadata": {},
   "source": [
    "predict train set results"
   ]
  },
  {
   "cell_type": "code",
   "execution_count": 121,
   "metadata": {},
   "outputs": [],
   "source": [
    "y_pred_train = model.predict(X_train)"
   ]
  },
  {
   "cell_type": "markdown",
   "metadata": {},
   "source": [
    "train accuracy"
   ]
  },
  {
   "cell_type": "code",
   "execution_count": 122,
   "metadata": {},
   "outputs": [
    {
     "name": "stdout",
     "output_type": "stream",
     "text": [
      "[[348   1]\n",
      " [187   1]]\n",
      "training accuracy: 0.6499068901303539\n"
     ]
    }
   ],
   "source": [
    "from sklearn.metrics import confusion_matrix, accuracy_score\n",
    "cm = confusion_matrix(y_train,y_pred_train)\n",
    "print(cm)\n",
    "print(\"training accuracy:\",accuracy_score(y_train, y_pred_train))"
   ]
  },
  {
   "cell_type": "markdown",
   "metadata": {},
   "source": [
    "predict test set results"
   ]
  },
  {
   "cell_type": "code",
   "execution_count": 123,
   "metadata": {},
   "outputs": [],
   "source": [
    "y_pred_test = model.predict(X_test)"
   ]
  },
  {
   "cell_type": "markdown",
   "metadata": {},
   "source": [
    "test accuracy"
   ]
  },
  {
   "cell_type": "code",
   "execution_count": 124,
   "metadata": {},
   "outputs": [
    {
     "name": "stdout",
     "output_type": "stream",
     "text": [
      "[[150   1]\n",
      " [ 79   1]]\n",
      "test accuracy: 0.6536796536796536\n"
     ]
    }
   ],
   "source": [
    "from sklearn.metrics import accuracy_score,confusion_matrix\n",
    "cm = confusion_matrix(y_test, y_pred_test)\n",
    "print(cm)\n",
    "print(\"test accuracy:\", accuracy_score(y_test,y_pred_test))"
   ]
  },
  {
   "cell_type": "markdown",
   "metadata": {},
   "source": [
    "Interpreting coefficients of independent variables"
   ]
  },
  {
   "cell_type": "code",
   "execution_count": 125,
   "metadata": {},
   "outputs": [
    {
     "data": {
      "text/plain": [
       "array([ 0.90501551, -0.13267222, -1.10445312, -0.21994217, -0.34169352,\n",
       "        0.08540445,  0.0273881 ,  0.13388974])"
      ]
     },
     "execution_count": 125,
     "metadata": {},
     "output_type": "execute_result"
    }
   ],
   "source": [
    "model.w"
   ]
  },
  {
   "cell_type": "code",
   "execution_count": 126,
   "metadata": {},
   "outputs": [
    {
     "name": "stdout",
     "output_type": "stream",
     "text": [
      "intercept: -0.36485847230164287\n"
     ]
    }
   ],
   "source": [
    "intercept = model.b\n",
    "print(\"intercept:\",model.b)"
   ]
  },
  {
   "cell_type": "code",
   "execution_count": 127,
   "metadata": {},
   "outputs": [
    {
     "data": {
      "text/html": [
       "<div>\n",
       "<style scoped>\n",
       "    .dataframe tbody tr th:only-of-type {\n",
       "        vertical-align: middle;\n",
       "    }\n",
       "\n",
       "    .dataframe tbody tr th {\n",
       "        vertical-align: top;\n",
       "    }\n",
       "\n",
       "    .dataframe thead th {\n",
       "        text-align: right;\n",
       "    }\n",
       "</style>\n",
       "<table border=\"1\" class=\"dataframe\">\n",
       "  <thead>\n",
       "    <tr style=\"text-align: right;\">\n",
       "      <th></th>\n",
       "      <th>independent variable</th>\n",
       "      <th>coeff</th>\n",
       "    </tr>\n",
       "  </thead>\n",
       "  <tbody>\n",
       "    <tr>\n",
       "      <th>0</th>\n",
       "      <td>Pregnancies</td>\n",
       "      <td>0.905016</td>\n",
       "    </tr>\n",
       "    <tr>\n",
       "      <th>1</th>\n",
       "      <td>Glucose</td>\n",
       "      <td>-0.132672</td>\n",
       "    </tr>\n",
       "    <tr>\n",
       "      <th>2</th>\n",
       "      <td>BloodPressure</td>\n",
       "      <td>-1.104453</td>\n",
       "    </tr>\n",
       "    <tr>\n",
       "      <th>3</th>\n",
       "      <td>SkinThickness</td>\n",
       "      <td>-0.219942</td>\n",
       "    </tr>\n",
       "    <tr>\n",
       "      <th>4</th>\n",
       "      <td>Insulin</td>\n",
       "      <td>-0.341694</td>\n",
       "    </tr>\n",
       "    <tr>\n",
       "      <th>5</th>\n",
       "      <td>BMI</td>\n",
       "      <td>0.085404</td>\n",
       "    </tr>\n",
       "    <tr>\n",
       "      <th>6</th>\n",
       "      <td>DiabetesPedigreeFunction</td>\n",
       "      <td>0.027388</td>\n",
       "    </tr>\n",
       "    <tr>\n",
       "      <th>7</th>\n",
       "      <td>Age</td>\n",
       "      <td>0.133890</td>\n",
       "    </tr>\n",
       "    <tr>\n",
       "      <th>8</th>\n",
       "      <td>Intercept</td>\n",
       "      <td>-0.364858</td>\n",
       "    </tr>\n",
       "  </tbody>\n",
       "</table>\n",
       "</div>"
      ],
      "text/plain": [
       "       independent variable     coeff\n",
       "0               Pregnancies  0.905016\n",
       "1                   Glucose -0.132672\n",
       "2             BloodPressure -1.104453\n",
       "3             SkinThickness -0.219942\n",
       "4                   Insulin -0.341694\n",
       "5                       BMI  0.085404\n",
       "6  DiabetesPedigreeFunction  0.027388\n",
       "7                       Age  0.133890\n",
       "8                 Intercept -0.364858"
      ]
     },
     "execution_count": 127,
     "metadata": {},
     "output_type": "execute_result"
    }
   ],
   "source": [
    "independent_variables =[\"Pregnancies\", \"Glucose\", \"BloodPressure\", \"SkinThickness\", \"Insulin\", \"BMI\", \"DiabetesPedigreeFunction\", \"Age\"]\n",
    "coefficients = model.w\n",
    "\n",
    "coeff_df = pd.DataFrame({'independent variable':independent_variables, 'coeff':coefficients})\n",
    "\n",
    "coeff_df.loc[len(coeff_df.index)] = ['Intercept',model.b] \n",
    "\n",
    "coeff_df"
   ]
  },
  {
   "cell_type": "markdown",
   "metadata": {},
   "source": [
    "**Q.**\n",
    "In logistic regression, How do the coefficients of independent variables convey us about their contribution to dependent variable ?\n",
    "\n",
    "**ANS**\n",
    "\n",
    "**Sign of the Coefficients:** The sign of the coefficient (+ or -) indicates the direction of the relationship between the independent variable and the dependent variable.\n",
    "- A positive coefficient suggests that an increase in the independent variable is associated with an increase in the log-odds of the dependent variable being in class 1.\n",
    "- A negative coefficient suggests that an increase in the independent variable is associated with a decrease in the log-odds of the dependent variable being in class 1.\n",
    "\n",
    "**Magnitude of the Coefficients:** The magnitude of the coefficient indicates the strength of the relationship between the independent variable and the dependent variable. Larger magnitudes suggest a stronger influence on the dependent variable.\n",
    "\n",
    "**Odds Ratio:** Exponentiating the coefficient gives the odds ratio. For example, if the coefficient for a variable is 0.5, then the odds of the dependent variable being in class 1 increase by a factor of exp(0.5) ≈ 1.65 for a one-unit increase in the independent variable.\n",
    "\n",
    "**Comparing Coefficients:** You can compare the coefficients of different independent variables to assess their relative importance in predicting the dependent variable. Larger coefficients typically indicate stronger contributions to the prediction."
   ]
  }
 ],
 "metadata": {
  "kernelspec": {
   "display_name": "Python 3",
   "language": "python",
   "name": "python3"
  },
  "language_info": {
   "codemirror_mode": {
    "name": "ipython",
    "version": 3
   },
   "file_extension": ".py",
   "mimetype": "text/x-python",
   "name": "python",
   "nbconvert_exporter": "python",
   "pygments_lexer": "ipython3",
   "version": "3.11.3"
  }
 },
 "nbformat": 4,
 "nbformat_minor": 2
}
