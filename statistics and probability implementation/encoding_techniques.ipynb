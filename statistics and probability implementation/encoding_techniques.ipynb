{
 "cells": [
  {
   "cell_type": "markdown",
   "metadata": {},
   "source": [
    "# One-hot encoding"
   ]
  },
  {
   "cell_type": "code",
   "execution_count": 19,
   "metadata": {},
   "outputs": [
    {
     "data": {
      "text/html": [
       "<div>\n",
       "<style scoped>\n",
       "    .dataframe tbody tr th:only-of-type {\n",
       "        vertical-align: middle;\n",
       "    }\n",
       "\n",
       "    .dataframe tbody tr th {\n",
       "        vertical-align: top;\n",
       "    }\n",
       "\n",
       "    .dataframe thead th {\n",
       "        text-align: right;\n",
       "    }\n",
       "</style>\n",
       "<table border=\"1\" class=\"dataframe\">\n",
       "  <thead>\n",
       "    <tr style=\"text-align: right;\">\n",
       "      <th></th>\n",
       "      <th>Color_Blue</th>\n",
       "      <th>Color_Green</th>\n",
       "      <th>Color_Red</th>\n",
       "    </tr>\n",
       "  </thead>\n",
       "  <tbody>\n",
       "    <tr>\n",
       "      <th>0</th>\n",
       "      <td>0</td>\n",
       "      <td>0</td>\n",
       "      <td>1</td>\n",
       "    </tr>\n",
       "    <tr>\n",
       "      <th>1</th>\n",
       "      <td>1</td>\n",
       "      <td>0</td>\n",
       "      <td>0</td>\n",
       "    </tr>\n",
       "    <tr>\n",
       "      <th>2</th>\n",
       "      <td>0</td>\n",
       "      <td>1</td>\n",
       "      <td>0</td>\n",
       "    </tr>\n",
       "    <tr>\n",
       "      <th>3</th>\n",
       "      <td>0</td>\n",
       "      <td>0</td>\n",
       "      <td>1</td>\n",
       "    </tr>\n",
       "    <tr>\n",
       "      <th>4</th>\n",
       "      <td>0</td>\n",
       "      <td>1</td>\n",
       "      <td>0</td>\n",
       "    </tr>\n",
       "  </tbody>\n",
       "</table>\n",
       "</div>"
      ],
      "text/plain": [
       "   Color_Blue  Color_Green  Color_Red\n",
       "0           0            0          1\n",
       "1           1            0          0\n",
       "2           0            1          0\n",
       "3           0            0          1\n",
       "4           0            1          0"
      ]
     },
     "execution_count": 19,
     "metadata": {},
     "output_type": "execute_result"
    }
   ],
   "source": [
    "import pandas as pd\n",
    "\n",
    "# Sample dataset with a categorical column\n",
    "data = {'Color': ['Red', 'Blue', 'Green', 'Red', 'Green']}\n",
    "df = pd.DataFrame(data)\n",
    "\n",
    "# one-hot encoding using Pandas\n",
    "one_hot_encoded = pd.get_dummies(df, columns=['Color'])\n",
    "\n",
    "# Convert boolean values to integers (0 and 1)\n",
    "one_hot_encoded = one_hot_encoded.astype(int)\n",
    "\n",
    "one_hot_encoded"
   ]
  },
  {
   "cell_type": "markdown",
   "metadata": {},
   "source": [
    "# Label Encoding"
   ]
  },
  {
   "cell_type": "code",
   "execution_count": 20,
   "metadata": {},
   "outputs": [
    {
     "data": {
      "text/html": [
       "<div>\n",
       "<style scoped>\n",
       "    .dataframe tbody tr th:only-of-type {\n",
       "        vertical-align: middle;\n",
       "    }\n",
       "\n",
       "    .dataframe tbody tr th {\n",
       "        vertical-align: top;\n",
       "    }\n",
       "\n",
       "    .dataframe thead th {\n",
       "        text-align: right;\n",
       "    }\n",
       "</style>\n",
       "<table border=\"1\" class=\"dataframe\">\n",
       "  <thead>\n",
       "    <tr style=\"text-align: right;\">\n",
       "      <th></th>\n",
       "      <th>Size</th>\n",
       "      <th>Size_encoded</th>\n",
       "    </tr>\n",
       "  </thead>\n",
       "  <tbody>\n",
       "    <tr>\n",
       "      <th>0</th>\n",
       "      <td>Small</td>\n",
       "      <td>2</td>\n",
       "    </tr>\n",
       "    <tr>\n",
       "      <th>1</th>\n",
       "      <td>Medium</td>\n",
       "      <td>1</td>\n",
       "    </tr>\n",
       "    <tr>\n",
       "      <th>2</th>\n",
       "      <td>Large</td>\n",
       "      <td>0</td>\n",
       "    </tr>\n",
       "    <tr>\n",
       "      <th>3</th>\n",
       "      <td>Medium</td>\n",
       "      <td>1</td>\n",
       "    </tr>\n",
       "    <tr>\n",
       "      <th>4</th>\n",
       "      <td>Small</td>\n",
       "      <td>2</td>\n",
       "    </tr>\n",
       "  </tbody>\n",
       "</table>\n",
       "</div>"
      ],
      "text/plain": [
       "     Size  Size_encoded\n",
       "0   Small             2\n",
       "1  Medium             1\n",
       "2   Large             0\n",
       "3  Medium             1\n",
       "4   Small             2"
      ]
     },
     "execution_count": 20,
     "metadata": {},
     "output_type": "execute_result"
    }
   ],
   "source": [
    "from sklearn.preprocessing import LabelEncoder\n",
    "\n",
    "# Sample dataset with a categorical column\n",
    "data = {'Size': ['Small', 'Medium', 'Large', 'Medium', 'Small']}\n",
    "df = pd.DataFrame(data)\n",
    "\n",
    "# Initialize the LabelEncoder\n",
    "label_encoder = LabelEncoder()\n",
    "\n",
    "# Fit and transform the 'Size' column\n",
    "df['Size_encoded'] = label_encoder.fit_transform(df['Size'])\n",
    "\n",
    "df"
   ]
  },
  {
   "cell_type": "markdown",
   "metadata": {},
   "source": [
    "# Ordinal encoding"
   ]
  },
  {
   "cell_type": "code",
   "execution_count": 21,
   "metadata": {},
   "outputs": [
    {
     "data": {
      "text/html": [
       "<div>\n",
       "<style scoped>\n",
       "    .dataframe tbody tr th:only-of-type {\n",
       "        vertical-align: middle;\n",
       "    }\n",
       "\n",
       "    .dataframe tbody tr th {\n",
       "        vertical-align: top;\n",
       "    }\n",
       "\n",
       "    .dataframe thead th {\n",
       "        text-align: right;\n",
       "    }\n",
       "</style>\n",
       "<table border=\"1\" class=\"dataframe\">\n",
       "  <thead>\n",
       "    <tr style=\"text-align: right;\">\n",
       "      <th></th>\n",
       "      <th>Education_Level</th>\n",
       "    </tr>\n",
       "  </thead>\n",
       "  <tbody>\n",
       "    <tr>\n",
       "      <th>0</th>\n",
       "      <td>0</td>\n",
       "    </tr>\n",
       "    <tr>\n",
       "      <th>1</th>\n",
       "      <td>1</td>\n",
       "    </tr>\n",
       "    <tr>\n",
       "      <th>2</th>\n",
       "      <td>2</td>\n",
       "    </tr>\n",
       "    <tr>\n",
       "      <th>3</th>\n",
       "      <td>1</td>\n",
       "    </tr>\n",
       "    <tr>\n",
       "      <th>4</th>\n",
       "      <td>0</td>\n",
       "    </tr>\n",
       "  </tbody>\n",
       "</table>\n",
       "</div>"
      ],
      "text/plain": [
       "   Education_Level\n",
       "0                0\n",
       "1                1\n",
       "2                2\n",
       "3                1\n",
       "4                0"
      ]
     },
     "execution_count": 21,
     "metadata": {},
     "output_type": "execute_result"
    }
   ],
   "source": [
    "\n",
    "import pandas as pd\n",
    "import category_encoders as ce\n",
    "\n",
    "# Sample dataset with an ordinal categorical column\n",
    "data = {'Education_Level': ['High School', 'Bachelor\\'s', 'Master\\'s', 'Bachelor\\'s', 'High School']}\n",
    "df = pd.DataFrame(data)\n",
    "\n",
    "# Define the order of categories\n",
    "education_order = ['High School', 'Bachelor\\'s', 'Master\\'s']\n",
    "\n",
    "# Initialize the OrdinalEncoder with specified order\n",
    "ordinal_encoder = ce.OrdinalEncoder(mapping=[{'col': 'Education_Level', 'mapping': {level: index for index, level in enumerate(education_order)}}])\n",
    "\n",
    "# Fit and transform the DataFrame\n",
    "df_encoded = ordinal_encoder.fit_transform(df)\n",
    "\n",
    "# Display the DataFrame with ordinal encoding\n",
    "df_encoded\n"
   ]
  },
  {
   "cell_type": "markdown",
   "metadata": {},
   "source": [
    "# Count Encoding"
   ]
  },
  {
   "cell_type": "code",
   "execution_count": 22,
   "metadata": {},
   "outputs": [
    {
     "name": "stdout",
     "output_type": "stream",
     "text": [
      "before encoding\n",
      "   Color    Size  Label\n",
      "5   Blue   Small      0\n",
      "2  Green   Large      1\n",
      "4    Red   Small      0\n",
      "3    Red  Medium      1\n",
      "6  Green  Medium      1\n",
      "Training Data (After Count Encoding):\n",
      "    Color  Size\n",
      "5      1     2\n",
      "2      2     1\n",
      "4      2     2\n",
      "3      2     2\n",
      "6      2     2\n"
     ]
    },
    {
     "data": {
      "text/plain": [
       "'\\nprint(\"\\nTest Data (After Count Encoding):\\n\", test_encoded)\\n'"
      ]
     },
     "execution_count": 22,
     "metadata": {},
     "output_type": "execute_result"
    }
   ],
   "source": [
    "\n",
    "import pandas as pd\n",
    "from sklearn.model_selection import train_test_split\n",
    "import category_encoders as ce\n",
    "\n",
    "# Generate a dummy dataset with categorical variables\n",
    "data = {\n",
    "    'Color': ['Red', 'Blue', 'Green', 'Red', 'Red', 'Blue', 'Green'],\n",
    "    'Size': ['Small', 'Medium', 'Large', 'Medium', 'Small', 'Small', 'Medium'],\n",
    "    'Label': [1, 0, 1, 1, 0, 0, 1]\n",
    "}\n",
    "\n",
    "df = pd.DataFrame(data)\n",
    "\n",
    "# Split the data into training and test sets\n",
    "train_df, test_df = train_test_split(df, test_size=0.2, random_state=42)\n",
    "\n",
    "# Initialize the CountEncoder\n",
    "count_encoder = ce.CountEncoder()\n",
    "\n",
    "# Fit the encoder on the training data\n",
    "count_encoder.fit(train_df[['Color', 'Size']])\n",
    "\n",
    "print('before encoding')\n",
    "print(train_df)\n",
    "\n",
    "# Transform both the training and test datasets\n",
    "train_encoded = count_encoder.transform(train_df[['Color', 'Size']])\n",
    "test_encoded = count_encoder.transform(test_df[['Color', 'Size']])\n",
    "\n",
    "# Display the encoded datasets\n",
    "print(\"Training Data (After Count Encoding):\\n\", train_encoded)\n",
    "'''\n",
    "print(\"\\nTest Data (After Count Encoding):\\n\", test_encoded)\n",
    "'''"
   ]
  },
  {
   "cell_type": "code",
   "execution_count": 23,
   "metadata": {},
   "outputs": [
    {
     "name": "stdout",
     "output_type": "stream",
     "text": [
      "data before encoding\n",
      "   Color    Size  Label\n",
      "0    Red   Small      1\n",
      "1   Blue  Medium      0\n",
      "2  Green   Large      1\n",
      "3    Red  Medium      1\n",
      "4    Red   Small      0\n",
      "5   Blue   Small      0\n",
      "6  Green  Medium      1\n",
      "data before encoding\n",
      "   Color  Size\n",
      "0      2     2\n",
      "1      1     2\n",
      "2      2     1\n",
      "3      2     2\n",
      "4      2     2\n",
      "5      1     2\n",
      "6      2     2\n"
     ]
    }
   ],
   "source": [
    "print(\"data before encoding\")\n",
    "print(df)\n",
    "\n",
    "df_encoded = count_encoder.transform(df[['Color', 'Size']])\n",
    "\n",
    "print(\"data before encoding\")\n",
    "print(df_encoded)"
   ]
  },
  {
   "cell_type": "markdown",
   "metadata": {},
   "source": [
    "# Target encoding"
   ]
  },
  {
   "cell_type": "code",
   "execution_count": 24,
   "metadata": {},
   "outputs": [
    {
     "name": "stdout",
     "output_type": "stream",
     "text": [
      "before encoding\n",
      "   Color    Size  Label\n",
      "5   Blue   Small      0\n",
      "2  Green   Large      1\n",
      "4    Red   Small      0\n",
      "3    Red  Medium      1\n",
      "6  Green  Medium      1\n",
      "Training Data (After Mean Encoding):\n",
      "       Color      Size\n",
      "5  0.521935  0.514889\n",
      "2  0.656740  0.652043\n",
      "4  0.585815  0.514889\n",
      "3  0.585815  0.656740\n",
      "6  0.656740  0.656740\n"
     ]
    },
    {
     "data": {
      "text/plain": [
       "'\\nprint(\"\\nTest Data (After Mean Encoding):\\n\", test_encoded)\\n'"
      ]
     },
     "execution_count": 24,
     "metadata": {},
     "output_type": "execute_result"
    }
   ],
   "source": [
    "from sklearn.model_selection import train_test_split\n",
    "import category_encoders as ce\n",
    "\n",
    "# Generate a dummy dataset with categorical variables\n",
    "data = {\n",
    "    'Color': ['Red', 'Blue', 'Green', 'Red', 'Red', 'Blue', 'Green'],\n",
    "    'Size': ['Small', 'Medium', 'Large', 'Medium', 'Small', 'Small', 'Medium'],\n",
    "    'Label': [1, 0, 1, 1, 0, 0, 1]\n",
    "}\n",
    "\n",
    "df = pd.DataFrame(data)\n",
    "\n",
    "# Split the data into training and test sets\n",
    "train_df, test_df = train_test_split(df, test_size=0.2, random_state=42)\n",
    "\n",
    "# Initialize the MeanEncoder\n",
    "mean_encoder = ce.TargetEncoder()\n",
    "\n",
    "# Fit the encoder on the training data\n",
    "mean_encoder.fit(train_df[['Color', 'Size']], train_df['Label'])\n",
    "\n",
    "print('before encoding')\n",
    "print(train_df)\n",
    "\n",
    "# Transform both the training and test datasets\n",
    "train_encoded = mean_encoder.transform(train_df[['Color', 'Size']])\n",
    "test_encoded = mean_encoder.transform(test_df[['Color', 'Size']])\n",
    "\n",
    "# Display the encoded datasets\n",
    "print(\"Training Data (After Mean Encoding):\\n\", train_encoded)\n",
    "'''\n",
    "print(\"\\nTest Data (After Mean Encoding):\\n\", test_encoded)\n",
    "'''"
   ]
  },
  {
   "cell_type": "markdown",
   "metadata": {},
   "source": [
    "# Leave one out encoding"
   ]
  },
  {
   "cell_type": "code",
   "execution_count": 25,
   "metadata": {},
   "outputs": [
    {
     "name": "stdout",
     "output_type": "stream",
     "text": [
      "before encoding\n",
      "  Category1 Category2  Target\n",
      "0         A         X       1\n",
      "7         B         Y       0\n",
      "2         A         X       1\n",
      "4         A         X       1\n",
      "3         B         Y       0\n",
      "6         B         X       0\n",
      "Encoded Training Data:\n",
      "   Category1  Category2  Target\n",
      "0        1.0   0.666667       1\n",
      "7        0.0   0.000000       0\n",
      "2        1.0   0.666667       1\n",
      "4        1.0   0.666667       1\n",
      "3        0.0   0.000000       0\n",
      "6        0.0   1.000000       0\n"
     ]
    },
    {
     "data": {
      "text/plain": [
       "'\\nprint(\"\\nEncoded Test Data:\")\\nprint(test_encoded)\\n'"
      ]
     },
     "execution_count": 25,
     "metadata": {},
     "output_type": "execute_result"
    }
   ],
   "source": [
    "import category_encoders as ce\n",
    "import pandas as pd\n",
    "from sklearn.model_selection import train_test_split\n",
    "\n",
    "# Sample dataset (replace this with your own dataset)\n",
    "data = {\n",
    "    'Category1': ['A', 'B', 'A', 'B', 'A', 'A', 'B', 'B'],\n",
    "    'Category2': ['X', 'Y', 'X', 'Y', 'X', 'Y', 'X', 'Y'],\n",
    "    'Target': [1, 0, 1, 0, 1, 1, 0, 0]\n",
    "}\n",
    "\n",
    "df = pd.DataFrame(data)\n",
    "\n",
    "# Split the data into train and test sets\n",
    "train_df, test_df = train_test_split(df, test_size=0.2, random_state=42)\n",
    "\n",
    "# Specify categorical columns for LOO encoding\n",
    "categorical_columns = ['Category1', 'Category2']\n",
    "\n",
    "# Initialize LOO encoder\n",
    "loo_encoder = ce.leave_one_out.LeaveOneOutEncoder(cols=categorical_columns)\n",
    "\n",
    "print('before encoding')\n",
    "print(train_df)\n",
    "\n",
    "# Fit and transform on the training data\n",
    "train_encoded = loo_encoder.fit_transform(train_df, train_df['Target'])\n",
    "\n",
    "# Transform the test data using the encoder fitted on the training data\n",
    "test_encoded = loo_encoder.transform(test_df)\n",
    "\n",
    "# Display the results\n",
    "print(\"Encoded Training Data:\")\n",
    "print(train_encoded)\n",
    "\n",
    "'''\n",
    "print(\"\\nEncoded Test Data:\")\n",
    "print(test_encoded)\n",
    "'''"
   ]
  },
  {
   "cell_type": "markdown",
   "metadata": {},
   "source": [
    "# Catboost Encoder"
   ]
  },
  {
   "cell_type": "code",
   "execution_count": 26,
   "metadata": {},
   "outputs": [
    {
     "data": {
      "text/html": [
       "<div>\n",
       "<style scoped>\n",
       "    .dataframe tbody tr th:only-of-type {\n",
       "        vertical-align: middle;\n",
       "    }\n",
       "\n",
       "    .dataframe tbody tr th {\n",
       "        vertical-align: top;\n",
       "    }\n",
       "\n",
       "    .dataframe thead th {\n",
       "        text-align: right;\n",
       "    }\n",
       "</style>\n",
       "<table border=\"1\" class=\"dataframe\">\n",
       "  <thead>\n",
       "    <tr style=\"text-align: right;\">\n",
       "      <th></th>\n",
       "      <th>Category</th>\n",
       "    </tr>\n",
       "  </thead>\n",
       "  <tbody>\n",
       "    <tr>\n",
       "      <th>0</th>\n",
       "      <td>0.6</td>\n",
       "    </tr>\n",
       "    <tr>\n",
       "      <th>1</th>\n",
       "      <td>0.6</td>\n",
       "    </tr>\n",
       "    <tr>\n",
       "      <th>2</th>\n",
       "      <td>0.6</td>\n",
       "    </tr>\n",
       "    <tr>\n",
       "      <th>3</th>\n",
       "      <td>0.8</td>\n",
       "    </tr>\n",
       "    <tr>\n",
       "      <th>4</th>\n",
       "      <td>0.3</td>\n",
       "    </tr>\n",
       "  </tbody>\n",
       "</table>\n",
       "</div>"
      ],
      "text/plain": [
       "   Category\n",
       "0       0.6\n",
       "1       0.6\n",
       "2       0.6\n",
       "3       0.8\n",
       "4       0.3"
      ]
     },
     "execution_count": 26,
     "metadata": {},
     "output_type": "execute_result"
    }
   ],
   "source": [
    "import pandas as pd\n",
    "from category_encoders.cat_boost import CatBoostEncoder\n",
    "\n",
    "# Sample training and testing datasets with a categorical column\n",
    "train_data = pd.DataFrame({'Category': ['A', 'B', 'C', 'A', 'B'], 'Target': [1, 0, 1, 0, 1]})\n",
    "test_data = pd.DataFrame({'Category': ['A', 'C', 'B']})\n",
    "\n",
    "# Initialize the CatBoostEncoder\n",
    "catboost_encoder = CatBoostEncoder()\n",
    "\n",
    "# Fit and transform the training data\n",
    "train_encoded = catboost_encoder.fit_transform(train_data['Category'], train_data['Target'])\n",
    "\n",
    "# Transform the testing data\n",
    "test_encoded = catboost_encoder.transform(test_data['Category'])\n",
    "\n",
    "train_encoded"
   ]
  },
  {
   "cell_type": "code",
   "execution_count": null,
   "metadata": {},
   "outputs": [],
   "source": []
  }
 ],
 "metadata": {
  "kernelspec": {
   "display_name": "Python 3",
   "language": "python",
   "name": "python3"
  },
  "language_info": {
   "codemirror_mode": {
    "name": "ipython",
    "version": 3
   },
   "file_extension": ".py",
   "mimetype": "text/x-python",
   "name": "python",
   "nbconvert_exporter": "python",
   "pygments_lexer": "ipython3",
   "version": "3.11.3"
  }
 },
 "nbformat": 4,
 "nbformat_minor": 2
}
