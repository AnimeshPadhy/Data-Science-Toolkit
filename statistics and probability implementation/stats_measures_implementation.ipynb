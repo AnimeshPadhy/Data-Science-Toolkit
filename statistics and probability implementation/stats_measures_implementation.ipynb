{
 "cells": [
  {
   "cell_type": "code",
   "execution_count": 3,
   "metadata": {},
   "outputs": [],
   "source": [
    "from scipy import stats as st\n",
    "import numpy as np "
   ]
  },
  {
   "cell_type": "markdown",
   "metadata": {},
   "source": [
    "Measure of central tendencies\n",
    "- mean\n",
    "- median\n",
    "- mode"
   ]
  },
  {
   "cell_type": "code",
   "execution_count": 9,
   "metadata": {},
   "outputs": [
    {
     "name": "stdout",
     "output_type": "stream",
     "text": [
      "[ 1  2  5  6  7  9  9 12 15 45 18 19 27 63 55]\n"
     ]
    }
   ],
   "source": [
    "my_list = [1, 2, 5, 6, 7, 9, 9, 12, 15, 45, 18, 19, 27, 63, 55]\n",
    "arr = np.array(my_list)\n",
    "print(arr)"
   ]
  },
  {
   "cell_type": "code",
   "execution_count": 10,
   "metadata": {},
   "outputs": [
    {
     "name": "stdout",
     "output_type": "stream",
     "text": [
      "19.533333333333335 12.0\n"
     ]
    }
   ],
   "source": [
    "mean = np.mean(arr)\n",
    "median = np.median(arr)\n",
    "print(mean,median)"
   ]
  },
  {
   "cell_type": "code",
   "execution_count": 11,
   "metadata": {},
   "outputs": [
    {
     "name": "stdout",
     "output_type": "stream",
     "text": [
      "ModeResult(mode=9, count=2)\n"
     ]
    }
   ],
   "source": [
    "mode = st.mode(arr)\n",
    "print(mode)"
   ]
  },
  {
   "cell_type": "markdown",
   "metadata": {},
   "source": [
    "Measure of dispersion\n",
    "- Range\n",
    "- IQR\n",
    "- Variance\n",
    "- Standard Deviation\n",
    "- Coeffecient of Variation"
   ]
  },
  {
   "cell_type": "code",
   "execution_count": null,
   "metadata": {},
   "outputs": [],
   "source": []
  }
 ],
 "metadata": {
  "kernelspec": {
   "display_name": "Python 3",
   "language": "python",
   "name": "python3"
  },
  "language_info": {
   "codemirror_mode": {
    "name": "ipython",
    "version": 3
   },
   "file_extension": ".py",
   "mimetype": "text/x-python",
   "name": "python",
   "nbconvert_exporter": "python",
   "pygments_lexer": "ipython3",
   "version": "3.11.3"
  }
 },
 "nbformat": 4,
 "nbformat_minor": 2
}
