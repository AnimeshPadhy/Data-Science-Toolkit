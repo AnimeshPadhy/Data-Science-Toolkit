{
 "cells": [
  {
   "cell_type": "code",
   "execution_count": 1,
   "metadata": {},
   "outputs": [
    {
     "name": "stderr",
     "output_type": "stream",
     "text": [
      "C:\\Users\\animesh.padhy\\AppData\\Local\\Temp\\ipykernel_7052\\1654069430.py:1: DeprecationWarning: \n",
      "Pyarrow will become a required dependency of pandas in the next major release of pandas (pandas 3.0),\n",
      "(to allow more performant data types, such as the Arrow string type, and better interoperability with other libraries)\n",
      "but was not found to be installed on your system.\n",
      "If this would cause problems for you,\n",
      "please provide us feedback at https://github.com/pandas-dev/pandas/issues/54466\n",
      "        \n",
      "  import pandas as pd\n"
     ]
    }
   ],
   "source": [
    "import pandas as pd\n",
    "import numpy as np\n",
    "import matplotlib.pyplot as plt\n",
    "import seaborn as sns\n",
    "%matplotlib inline"
   ]
  },
  {
   "cell_type": "code",
   "execution_count": 2,
   "metadata": {},
   "outputs": [],
   "source": [
    "df = pd.read_excel(\"SaleData.xlsx\")"
   ]
  },
  {
   "cell_type": "code",
   "execution_count": 3,
   "metadata": {},
   "outputs": [
    {
     "data": {
      "text/plain": [
       "(43, 8)"
      ]
     },
     "execution_count": 3,
     "metadata": {},
     "output_type": "execute_result"
    }
   ],
   "source": [
    "df.shape"
   ]
  },
  {
   "cell_type": "code",
   "execution_count": 4,
   "metadata": {},
   "outputs": [
    {
     "data": {
      "text/html": [
       "<div>\n",
       "<style scoped>\n",
       "    .dataframe tbody tr th:only-of-type {\n",
       "        vertical-align: middle;\n",
       "    }\n",
       "\n",
       "    .dataframe tbody tr th {\n",
       "        vertical-align: top;\n",
       "    }\n",
       "\n",
       "    .dataframe thead th {\n",
       "        text-align: right;\n",
       "    }\n",
       "</style>\n",
       "<table border=\"1\" class=\"dataframe\">\n",
       "  <thead>\n",
       "    <tr style=\"text-align: right;\">\n",
       "      <th></th>\n",
       "      <th>OrderDate</th>\n",
       "      <th>Region</th>\n",
       "      <th>Manager</th>\n",
       "      <th>SalesMan</th>\n",
       "      <th>Item</th>\n",
       "      <th>Units</th>\n",
       "      <th>Unit_price</th>\n",
       "      <th>Sale_amt</th>\n",
       "    </tr>\n",
       "  </thead>\n",
       "  <tbody>\n",
       "    <tr>\n",
       "      <th>0</th>\n",
       "      <td>2018-01-06</td>\n",
       "      <td>East</td>\n",
       "      <td>Martha</td>\n",
       "      <td>Alexander</td>\n",
       "      <td>Television</td>\n",
       "      <td>95</td>\n",
       "      <td>1198.0</td>\n",
       "      <td>113810.0</td>\n",
       "    </tr>\n",
       "    <tr>\n",
       "      <th>1</th>\n",
       "      <td>2018-01-23</td>\n",
       "      <td>Central</td>\n",
       "      <td>Hermann</td>\n",
       "      <td>Shelli</td>\n",
       "      <td>Home Theater</td>\n",
       "      <td>50</td>\n",
       "      <td>500.0</td>\n",
       "      <td>25000.0</td>\n",
       "    </tr>\n",
       "    <tr>\n",
       "      <th>2</th>\n",
       "      <td>2018-02-09</td>\n",
       "      <td>Central</td>\n",
       "      <td>Hermann</td>\n",
       "      <td>Luis</td>\n",
       "      <td>Television</td>\n",
       "      <td>36</td>\n",
       "      <td>1198.0</td>\n",
       "      <td>43128.0</td>\n",
       "    </tr>\n",
       "    <tr>\n",
       "      <th>3</th>\n",
       "      <td>2018-02-26</td>\n",
       "      <td>Central</td>\n",
       "      <td>Timothy</td>\n",
       "      <td>David</td>\n",
       "      <td>Cell Phone</td>\n",
       "      <td>27</td>\n",
       "      <td>225.0</td>\n",
       "      <td>6075.0</td>\n",
       "    </tr>\n",
       "    <tr>\n",
       "      <th>4</th>\n",
       "      <td>2018-03-15</td>\n",
       "      <td>West</td>\n",
       "      <td>Timothy</td>\n",
       "      <td>Stephen</td>\n",
       "      <td>Television</td>\n",
       "      <td>56</td>\n",
       "      <td>1198.0</td>\n",
       "      <td>67088.0</td>\n",
       "    </tr>\n",
       "  </tbody>\n",
       "</table>\n",
       "</div>"
      ],
      "text/plain": [
       "   OrderDate   Region  Manager   SalesMan          Item  Units  Unit_price  \\\n",
       "0 2018-01-06     East   Martha  Alexander    Television     95      1198.0   \n",
       "1 2018-01-23  Central  Hermann     Shelli  Home Theater     50       500.0   \n",
       "2 2018-02-09  Central  Hermann       Luis    Television     36      1198.0   \n",
       "3 2018-02-26  Central  Timothy      David    Cell Phone     27       225.0   \n",
       "4 2018-03-15     West  Timothy    Stephen    Television     56      1198.0   \n",
       "\n",
       "   Sale_amt  \n",
       "0  113810.0  \n",
       "1   25000.0  \n",
       "2   43128.0  \n",
       "3    6075.0  \n",
       "4   67088.0  "
      ]
     },
     "execution_count": 4,
     "metadata": {},
     "output_type": "execute_result"
    }
   ],
   "source": [
    "df.head()"
   ]
  },
  {
   "cell_type": "code",
   "execution_count": 5,
   "metadata": {},
   "outputs": [
    {
     "name": "stdout",
     "output_type": "stream",
     "text": [
      "<class 'pandas.core.frame.DataFrame'>\n",
      "RangeIndex: 43 entries, 0 to 42\n",
      "Data columns (total 8 columns):\n",
      " #   Column      Non-Null Count  Dtype         \n",
      "---  ------      --------------  -----         \n",
      " 0   OrderDate   43 non-null     datetime64[ns]\n",
      " 1   Region      43 non-null     object        \n",
      " 2   Manager     43 non-null     object        \n",
      " 3   SalesMan    43 non-null     object        \n",
      " 4   Item        43 non-null     object        \n",
      " 5   Units       43 non-null     int64         \n",
      " 6   Unit_price  43 non-null     float64       \n",
      " 7   Sale_amt    43 non-null     float64       \n",
      "dtypes: datetime64[ns](1), float64(2), int64(1), object(4)\n",
      "memory usage: 2.8+ KB\n"
     ]
    }
   ],
   "source": [
    "df.info()"
   ]
  },
  {
   "cell_type": "code",
   "execution_count": 6,
   "metadata": {},
   "outputs": [
    {
     "data": {
      "text/plain": [
       "OrderDate     0\n",
       "Region        0\n",
       "Manager       0\n",
       "SalesMan      0\n",
       "Item          0\n",
       "Units         0\n",
       "Unit_price    0\n",
       "Sale_amt      0\n",
       "dtype: int64"
      ]
     },
     "execution_count": 6,
     "metadata": {},
     "output_type": "execute_result"
    }
   ],
   "source": [
    "#check missing values\n",
    "df.isnull().sum()"
   ]
  },
  {
   "cell_type": "markdown",
   "metadata": {},
   "source": [
    "Summary statistics of numerical cols"
   ]
  },
  {
   "cell_type": "code",
   "execution_count": 7,
   "metadata": {},
   "outputs": [
    {
     "data": {
      "text/html": [
       "<div>\n",
       "<style scoped>\n",
       "    .dataframe tbody tr th:only-of-type {\n",
       "        vertical-align: middle;\n",
       "    }\n",
       "\n",
       "    .dataframe tbody tr th {\n",
       "        vertical-align: top;\n",
       "    }\n",
       "\n",
       "    .dataframe thead th {\n",
       "        text-align: right;\n",
       "    }\n",
       "</style>\n",
       "<table border=\"1\" class=\"dataframe\">\n",
       "  <thead>\n",
       "    <tr style=\"text-align: right;\">\n",
       "      <th></th>\n",
       "      <th>OrderDate</th>\n",
       "      <th>Units</th>\n",
       "      <th>Unit_price</th>\n",
       "      <th>Sale_amt</th>\n",
       "    </tr>\n",
       "  </thead>\n",
       "  <tbody>\n",
       "    <tr>\n",
       "      <th>count</th>\n",
       "      <td>43</td>\n",
       "      <td>43.000000</td>\n",
       "      <td>43.000000</td>\n",
       "      <td>43.000000</td>\n",
       "    </tr>\n",
       "    <tr>\n",
       "      <th>mean</th>\n",
       "      <td>2018-12-29 00:00:00</td>\n",
       "      <td>49.325581</td>\n",
       "      <td>581.011628</td>\n",
       "      <td>30364.546512</td>\n",
       "    </tr>\n",
       "    <tr>\n",
       "      <th>min</th>\n",
       "      <td>2018-01-06 00:00:00</td>\n",
       "      <td>2.000000</td>\n",
       "      <td>58.500000</td>\n",
       "      <td>250.000000</td>\n",
       "    </tr>\n",
       "    <tr>\n",
       "      <th>25%</th>\n",
       "      <td>2018-07-03 12:00:00</td>\n",
       "      <td>27.500000</td>\n",
       "      <td>225.000000</td>\n",
       "      <td>3978.000000</td>\n",
       "    </tr>\n",
       "    <tr>\n",
       "      <th>50%</th>\n",
       "      <td>2018-12-29 00:00:00</td>\n",
       "      <td>53.000000</td>\n",
       "      <td>500.000000</td>\n",
       "      <td>17100.000000</td>\n",
       "    </tr>\n",
       "    <tr>\n",
       "      <th>75%</th>\n",
       "      <td>2019-06-25 12:00:00</td>\n",
       "      <td>74.500000</td>\n",
       "      <td>1198.000000</td>\n",
       "      <td>42529.000000</td>\n",
       "    </tr>\n",
       "    <tr>\n",
       "      <th>max</th>\n",
       "      <td>2019-12-21 00:00:00</td>\n",
       "      <td>96.000000</td>\n",
       "      <td>1198.000000</td>\n",
       "      <td>113810.000000</td>\n",
       "    </tr>\n",
       "    <tr>\n",
       "      <th>std</th>\n",
       "      <td>NaN</td>\n",
       "      <td>30.078248</td>\n",
       "      <td>442.285830</td>\n",
       "      <td>32424.588323</td>\n",
       "    </tr>\n",
       "  </tbody>\n",
       "</table>\n",
       "</div>"
      ],
      "text/plain": [
       "                 OrderDate      Units   Unit_price       Sale_amt\n",
       "count                   43  43.000000    43.000000      43.000000\n",
       "mean   2018-12-29 00:00:00  49.325581   581.011628   30364.546512\n",
       "min    2018-01-06 00:00:00   2.000000    58.500000     250.000000\n",
       "25%    2018-07-03 12:00:00  27.500000   225.000000    3978.000000\n",
       "50%    2018-12-29 00:00:00  53.000000   500.000000   17100.000000\n",
       "75%    2019-06-25 12:00:00  74.500000  1198.000000   42529.000000\n",
       "max    2019-12-21 00:00:00  96.000000  1198.000000  113810.000000\n",
       "std                    NaN  30.078248   442.285830   32424.588323"
      ]
     },
     "execution_count": 7,
     "metadata": {},
     "output_type": "execute_result"
    }
   ],
   "source": [
    "df.describe()"
   ]
  },
  {
   "cell_type": "markdown",
   "metadata": {},
   "source": [
    "Summary statistics of character columns\n",
    "describe() function with an argument named include along with value object(include='object') gives the summary statistics of the character columns."
   ]
  },
  {
   "cell_type": "code",
   "execution_count": 8,
   "metadata": {},
   "outputs": [
    {
     "data": {
      "text/html": [
       "<div>\n",
       "<style scoped>\n",
       "    .dataframe tbody tr th:only-of-type {\n",
       "        vertical-align: middle;\n",
       "    }\n",
       "\n",
       "    .dataframe tbody tr th {\n",
       "        vertical-align: top;\n",
       "    }\n",
       "\n",
       "    .dataframe thead th {\n",
       "        text-align: right;\n",
       "    }\n",
       "</style>\n",
       "<table border=\"1\" class=\"dataframe\">\n",
       "  <thead>\n",
       "    <tr style=\"text-align: right;\">\n",
       "      <th></th>\n",
       "      <th>Region</th>\n",
       "      <th>Manager</th>\n",
       "      <th>SalesMan</th>\n",
       "      <th>Item</th>\n",
       "    </tr>\n",
       "  </thead>\n",
       "  <tbody>\n",
       "    <tr>\n",
       "      <th>count</th>\n",
       "      <td>43</td>\n",
       "      <td>43</td>\n",
       "      <td>43</td>\n",
       "      <td>43</td>\n",
       "    </tr>\n",
       "    <tr>\n",
       "      <th>unique</th>\n",
       "      <td>3</td>\n",
       "      <td>4</td>\n",
       "      <td>11</td>\n",
       "      <td>5</td>\n",
       "    </tr>\n",
       "    <tr>\n",
       "      <th>top</th>\n",
       "      <td>Central</td>\n",
       "      <td>Martha</td>\n",
       "      <td>Alexander</td>\n",
       "      <td>Home Theater</td>\n",
       "    </tr>\n",
       "    <tr>\n",
       "      <th>freq</th>\n",
       "      <td>24</td>\n",
       "      <td>14</td>\n",
       "      <td>8</td>\n",
       "      <td>15</td>\n",
       "    </tr>\n",
       "  </tbody>\n",
       "</table>\n",
       "</div>"
      ],
      "text/plain": [
       "         Region Manager   SalesMan          Item\n",
       "count        43      43         43            43\n",
       "unique        3       4         11             5\n",
       "top     Central  Martha  Alexander  Home Theater\n",
       "freq         24      14          8            15"
      ]
     },
     "execution_count": 8,
     "metadata": {},
     "output_type": "execute_result"
    }
   ],
   "source": [
    "df.describe(include=['object'])"
   ]
  },
  {
   "cell_type": "markdown",
   "metadata": {},
   "source": [
    "Summary statistics for all columns\n",
    "include='all'"
   ]
  },
  {
   "cell_type": "code",
   "execution_count": 9,
   "metadata": {},
   "outputs": [
    {
     "data": {
      "text/html": [
       "<div>\n",
       "<style scoped>\n",
       "    .dataframe tbody tr th:only-of-type {\n",
       "        vertical-align: middle;\n",
       "    }\n",
       "\n",
       "    .dataframe tbody tr th {\n",
       "        vertical-align: top;\n",
       "    }\n",
       "\n",
       "    .dataframe thead th {\n",
       "        text-align: right;\n",
       "    }\n",
       "</style>\n",
       "<table border=\"1\" class=\"dataframe\">\n",
       "  <thead>\n",
       "    <tr style=\"text-align: right;\">\n",
       "      <th></th>\n",
       "      <th>OrderDate</th>\n",
       "      <th>Region</th>\n",
       "      <th>Manager</th>\n",
       "      <th>SalesMan</th>\n",
       "      <th>Item</th>\n",
       "      <th>Units</th>\n",
       "      <th>Unit_price</th>\n",
       "      <th>Sale_amt</th>\n",
       "    </tr>\n",
       "  </thead>\n",
       "  <tbody>\n",
       "    <tr>\n",
       "      <th>count</th>\n",
       "      <td>43</td>\n",
       "      <td>43</td>\n",
       "      <td>43</td>\n",
       "      <td>43</td>\n",
       "      <td>43</td>\n",
       "      <td>43.000000</td>\n",
       "      <td>43.000000</td>\n",
       "      <td>43.000000</td>\n",
       "    </tr>\n",
       "    <tr>\n",
       "      <th>unique</th>\n",
       "      <td>NaN</td>\n",
       "      <td>3</td>\n",
       "      <td>4</td>\n",
       "      <td>11</td>\n",
       "      <td>5</td>\n",
       "      <td>NaN</td>\n",
       "      <td>NaN</td>\n",
       "      <td>NaN</td>\n",
       "    </tr>\n",
       "    <tr>\n",
       "      <th>top</th>\n",
       "      <td>NaN</td>\n",
       "      <td>Central</td>\n",
       "      <td>Martha</td>\n",
       "      <td>Alexander</td>\n",
       "      <td>Home Theater</td>\n",
       "      <td>NaN</td>\n",
       "      <td>NaN</td>\n",
       "      <td>NaN</td>\n",
       "    </tr>\n",
       "    <tr>\n",
       "      <th>freq</th>\n",
       "      <td>NaN</td>\n",
       "      <td>24</td>\n",
       "      <td>14</td>\n",
       "      <td>8</td>\n",
       "      <td>15</td>\n",
       "      <td>NaN</td>\n",
       "      <td>NaN</td>\n",
       "      <td>NaN</td>\n",
       "    </tr>\n",
       "    <tr>\n",
       "      <th>mean</th>\n",
       "      <td>2018-12-29 00:00:00</td>\n",
       "      <td>NaN</td>\n",
       "      <td>NaN</td>\n",
       "      <td>NaN</td>\n",
       "      <td>NaN</td>\n",
       "      <td>49.325581</td>\n",
       "      <td>581.011628</td>\n",
       "      <td>30364.546512</td>\n",
       "    </tr>\n",
       "    <tr>\n",
       "      <th>min</th>\n",
       "      <td>2018-01-06 00:00:00</td>\n",
       "      <td>NaN</td>\n",
       "      <td>NaN</td>\n",
       "      <td>NaN</td>\n",
       "      <td>NaN</td>\n",
       "      <td>2.000000</td>\n",
       "      <td>58.500000</td>\n",
       "      <td>250.000000</td>\n",
       "    </tr>\n",
       "    <tr>\n",
       "      <th>25%</th>\n",
       "      <td>2018-07-03 12:00:00</td>\n",
       "      <td>NaN</td>\n",
       "      <td>NaN</td>\n",
       "      <td>NaN</td>\n",
       "      <td>NaN</td>\n",
       "      <td>27.500000</td>\n",
       "      <td>225.000000</td>\n",
       "      <td>3978.000000</td>\n",
       "    </tr>\n",
       "    <tr>\n",
       "      <th>50%</th>\n",
       "      <td>2018-12-29 00:00:00</td>\n",
       "      <td>NaN</td>\n",
       "      <td>NaN</td>\n",
       "      <td>NaN</td>\n",
       "      <td>NaN</td>\n",
       "      <td>53.000000</td>\n",
       "      <td>500.000000</td>\n",
       "      <td>17100.000000</td>\n",
       "    </tr>\n",
       "    <tr>\n",
       "      <th>75%</th>\n",
       "      <td>2019-06-25 12:00:00</td>\n",
       "      <td>NaN</td>\n",
       "      <td>NaN</td>\n",
       "      <td>NaN</td>\n",
       "      <td>NaN</td>\n",
       "      <td>74.500000</td>\n",
       "      <td>1198.000000</td>\n",
       "      <td>42529.000000</td>\n",
       "    </tr>\n",
       "    <tr>\n",
       "      <th>max</th>\n",
       "      <td>2019-12-21 00:00:00</td>\n",
       "      <td>NaN</td>\n",
       "      <td>NaN</td>\n",
       "      <td>NaN</td>\n",
       "      <td>NaN</td>\n",
       "      <td>96.000000</td>\n",
       "      <td>1198.000000</td>\n",
       "      <td>113810.000000</td>\n",
       "    </tr>\n",
       "    <tr>\n",
       "      <th>std</th>\n",
       "      <td>NaN</td>\n",
       "      <td>NaN</td>\n",
       "      <td>NaN</td>\n",
       "      <td>NaN</td>\n",
       "      <td>NaN</td>\n",
       "      <td>30.078248</td>\n",
       "      <td>442.285830</td>\n",
       "      <td>32424.588323</td>\n",
       "    </tr>\n",
       "  </tbody>\n",
       "</table>\n",
       "</div>"
      ],
      "text/plain": [
       "                  OrderDate   Region Manager   SalesMan          Item  \\\n",
       "count                    43       43      43         43            43   \n",
       "unique                  NaN        3       4         11             5   \n",
       "top                     NaN  Central  Martha  Alexander  Home Theater   \n",
       "freq                    NaN       24      14          8            15   \n",
       "mean    2018-12-29 00:00:00      NaN     NaN        NaN           NaN   \n",
       "min     2018-01-06 00:00:00      NaN     NaN        NaN           NaN   \n",
       "25%     2018-07-03 12:00:00      NaN     NaN        NaN           NaN   \n",
       "50%     2018-12-29 00:00:00      NaN     NaN        NaN           NaN   \n",
       "75%     2019-06-25 12:00:00      NaN     NaN        NaN           NaN   \n",
       "max     2019-12-21 00:00:00      NaN     NaN        NaN           NaN   \n",
       "std                     NaN      NaN     NaN        NaN           NaN   \n",
       "\n",
       "            Units   Unit_price       Sale_amt  \n",
       "count   43.000000    43.000000      43.000000  \n",
       "unique        NaN          NaN            NaN  \n",
       "top           NaN          NaN            NaN  \n",
       "freq          NaN          NaN            NaN  \n",
       "mean    49.325581   581.011628   30364.546512  \n",
       "min      2.000000    58.500000     250.000000  \n",
       "25%     27.500000   225.000000    3978.000000  \n",
       "50%     53.000000   500.000000   17100.000000  \n",
       "75%     74.500000  1198.000000   42529.000000  \n",
       "max     96.000000  1198.000000  113810.000000  \n",
       "std     30.078248   442.285830   32424.588323  "
      ]
     },
     "execution_count": 9,
     "metadata": {},
     "output_type": "execute_result"
    }
   ],
   "source": [
    "df.describe(include='all')"
   ]
  },
  {
   "cell_type": "markdown",
   "metadata": {},
   "source": [
    "measures of central tendency\n",
    "-mean\n",
    "-median\n",
    "-mode"
   ]
  },
  {
   "cell_type": "code",
   "execution_count": 10,
   "metadata": {},
   "outputs": [
    {
     "name": "stdout",
     "output_type": "stream",
     "text": [
      "mean= 30364.54651162791\n",
      "median= 17100.0\n",
      "mode: 0    Home Theater\n",
      "Name: Item, dtype: object\n"
     ]
    }
   ],
   "source": [
    "mean = df['Sale_amt'].mean()\n",
    "median = df['Sale_amt'].median()\n",
    "mode = df['Item'].mode()\n",
    "print(\"mean=\",mean)\n",
    "print(\"median=\",median)\n",
    "print(\"mode:\",mode)"
   ]
  },
  {
   "cell_type": "markdown",
   "metadata": {},
   "source": [
    "here mean > median \n",
    "i.e, positively skewed distribution"
   ]
  },
  {
   "cell_type": "code",
   "execution_count": 11,
   "metadata": {},
   "outputs": [
    {
     "name": "stderr",
     "output_type": "stream",
     "text": [
      "C:\\Users\\animesh.padhy\\AppData\\Local\\Temp\\ipykernel_7052\\2292595657.py:4: UserWarning: \n",
      "\n",
      "`distplot` is a deprecated function and will be removed in seaborn v0.14.0.\n",
      "\n",
      "Please adapt your code to use either `displot` (a figure-level function with\n",
      "similar flexibility) or `histplot` (an axes-level function for histograms).\n",
      "\n",
      "For a guide to updating your code to use the new functions, please see\n",
      "https://gist.github.com/mwaskom/de44147ed2974457ad6372750bbe5751\n",
      "\n",
      "  sns.distplot(data)\n"
     ]
    },
    {
     "data": {
      "text/plain": [
       "<Axes: xlabel='Sale_amt', ylabel='Density'>"
      ]
     },
     "execution_count": 11,
     "metadata": {},
     "output_type": "execute_result"
    },
    {
     "data": {
      "image/png": "[encoded data removed]",
      "text/plain": [
       "<Figure size 640x480 with 1 Axes>"
      ]
     },
     "metadata": {},
     "output_type": "display_data"
    }
   ],
   "source": [
    "data = df['Sale_amt']\n",
    "\n",
    "import seaborn as sns\n",
    "sns.distplot(data)"
   ]
  },
  {
   "cell_type": "markdown",
   "metadata": {},
   "source": [
    "Measure of Dispersion( Range, IQR, Variance, Standard Deviation, Coefficient of variation)"
   ]
  },
  {
   "cell_type": "code",
   "execution_count": 12,
   "metadata": {},
   "outputs": [
    {
     "name": "stdout",
     "output_type": "stream",
     "text": [
      "113560.0\n"
     ]
    }
   ],
   "source": [
    "#minimum value\n",
    "minima = df['Sale_amt'].min()\n",
    "\n",
    "#maximum value\n",
    "maxima = df['Sale_amt'].max()\n",
    "\n",
    "range = maxima - minima\n",
    "print(range)"
   ]
  },
  {
   "cell_type": "code",
   "execution_count": 13,
   "metadata": {},
   "outputs": [
    {
     "name": "stdout",
     "output_type": "stream",
     "text": [
      "38551.0\n"
     ]
    }
   ],
   "source": [
    "#median / Q2 / 50th percentile\n",
    "Q2 = df['Sale_amt'].quantile(0.5)\n",
    "\n",
    "# 75th percentile / Q3\n",
    "Q3 = df['Sale_amt'].quantile(0.75)\n",
    "\n",
    "# 25th percentile / Q1\n",
    "Q1 = df['Sale_amt'].quantile(0.25)\n",
    "\n",
    "IQR = Q3-Q1\n",
    "print(IQR)"
   ]
  },
  {
   "cell_type": "code",
   "execution_count": 14,
   "metadata": {},
   "outputs": [
    {
     "name": "stdout",
     "output_type": "stream",
     "text": [
      "1051353927.9382613 32424.588323342847\n"
     ]
    }
   ],
   "source": [
    "# variance\n",
    "variance = df['Sale_amt'].var()\n",
    "\n",
    "#standard deviation\n",
    "std = df['Sale_amt'].std()\n",
    "\n",
    "print(variance, std)"
   ]
  },
  {
   "cell_type": "code",
   "execution_count": null,
   "metadata": {},
   "outputs": [],
   "source": []
  },
  {
   "cell_type": "markdown",
   "metadata": {},
   "source": [
    "measures of shape of distribution"
   ]
  },
  {
   "cell_type": "markdown",
   "metadata": {},
   "source": [
    "skewness (measure of symmery)"
   ]
  },
  {
   "cell_type": "code",
   "execution_count": 15,
   "metadata": {},
   "outputs": [
    {
     "data": {
      "text/plain": [
       "1.255534529949316"
      ]
     },
     "execution_count": 15,
     "metadata": {},
     "output_type": "execute_result"
    }
   ],
   "source": [
    "df['Sale_amt'].skew()"
   ]
  },
  {
   "cell_type": "markdown",
   "metadata": {},
   "source": [
    "The skewness is slightly greater than 1.\n",
    "So the data is positive skewed / right skewed"
   ]
  },
  {
   "cell_type": "code",
   "execution_count": 16,
   "metadata": {},
   "outputs": [
    {
     "name": "stderr",
     "output_type": "stream",
     "text": [
      "C:\\Users\\animesh.padhy\\AppData\\Local\\Temp\\ipykernel_7052\\1154227836.py:2: UserWarning: \n",
      "\n",
      "`distplot` is a deprecated function and will be removed in seaborn v0.14.0.\n",
      "\n",
      "Please adapt your code to use either `displot` (a figure-level function with\n",
      "similar flexibility) or `histplot` (an axes-level function for histograms).\n",
      "\n",
      "For a guide to updating your code to use the new functions, please see\n",
      "https://gist.github.com/mwaskom/de44147ed2974457ad6372750bbe5751\n",
      "\n",
      "  sns.distplot(data)\n"
     ]
    },
    {
     "data": {
      "text/plain": [
       "<Axes: xlabel='Sale_amt', ylabel='Density'>"
      ]
     },
     "execution_count": 16,
     "metadata": {},
     "output_type": "execute_result"
    },
    {
     "data": {
      "image/png": "[encoded data removed]",
      "text/plain": [
       "<Figure size 640x480 with 1 Axes>"
      ]
     },
     "metadata": {},
     "output_type": "display_data"
    }
   ],
   "source": [
    "data = df['Sale_amt']\n",
    "sns.distplot(data)"
   ]
  },
  {
   "cell_type": "markdown",
   "metadata": {},
   "source": [
    "Kurtosis (measure of heaviness)\n",
    "(Positive kurtosis indicates heavier tails and a more peaked distribution, while negative kurtosis suggests lighter tails and a flatter distribution)\n",
    "Kurtosis helps in analyzing the characteristics and outliers of a dataset.\n",
    "high kurtosis value suggests that the distribution has more outliers and extreme values in its tails compared to a normal distribution,"
   ]
  },
  {
   "cell_type": "code",
   "execution_count": 17,
   "metadata": {},
   "outputs": [
    {
     "data": {
      "text/plain": [
       "0.6808764315640965"
      ]
     },
     "execution_count": 17,
     "metadata": {},
     "output_type": "execute_result"
    }
   ],
   "source": [
    "df['Sale_amt'].kurt()"
   ]
  },
  {
   "cell_type": "code",
   "execution_count": null,
   "metadata": {},
   "outputs": [],
   "source": []
  },
  {
   "cell_type": "code",
   "execution_count": null,
   "metadata": {},
   "outputs": [],
   "source": []
  }
 ],
 "metadata": {
  "kernelspec": {
   "display_name": "Python 3",
   "language": "python",
   "name": "python3"
  },
  "language_info": {
   "codemirror_mode": {
    "name": "ipython",
    "version": 3
   },
   "file_extension": ".py",
   "mimetype": "text/x-python",
   "name": "python",
   "nbconvert_exporter": "python",
   "pygments_lexer": "ipython3",
   "version": "3.11.3"
  }
 },
 "nbformat": 4,
 "nbformat_minor": 2
}
